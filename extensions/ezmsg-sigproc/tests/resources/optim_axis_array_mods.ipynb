{
 "cells": [
  {
   "cell_type": "markdown",
   "id": "e32c04512bcc5bf",
   "metadata": {},
   "source": [
    "# Optimizing AxisArray manipulations\n",
    "\n",
    "I frequently have to remind myself of a few things when working with AxisArrays.\n",
    "\n",
    "* Modifying a single field will affect all other references to this object, which could be in other branches of the pipeline.\n",
    "* The `axes` field is a dict and modifying it will affect all other references to this `axes` dict.\n",
    "* `deepcopy` is super slow and usually unnecessary because we often only modify 1 or 2 fields.\n",
    "\n",
    "So I came up with a general pattern to transform an AxisArray object that does not use `deepcopy` yet breaks the links to other references on the manipulated fields. The general rules are as follows:\n",
    "\n",
    "1. The outgoing message must (out_msg) be a new instance.\n",
    "2. The out_msg `axes` must be a new dictionary if ANY value is to be modified.\n",
    "3. Values in `axes` might be mutable references themselves, so modify-by-replacement.\n",
    "\n",
    "I use this notebook to remind myself of the problem and to profile the different possible solutions."
   ]
  },
  {
   "cell_type": "code",
   "execution_count": 1,
   "id": "initial_id",
   "metadata": {
    "ExecuteTime": {
     "end_time": "2024-06-02T13:51:33.315070Z",
     "start_time": "2024-06-02T13:51:33.188532Z"
    },
    "collapsed": true
   },
   "outputs": [],
   "source": [
    "import copy\n",
    "from dataclasses import replace\n",
    "\n",
    "import numpy as np\n",
    "from ezmsg.util.messages.axisarray import AxisArray\n"
   ]
  },
  {
   "cell_type": "markdown",
   "id": "505713ffcc88fd3a",
   "metadata": {},
   "source": [
    "## Generate inputs\n",
    "\n",
    "We start by generating input messages. We also create a copy of each message's time axis .offset, so we can later check to see a change to the output message's offset affects the input message."
   ]
  },
  {
   "cell_type": "code",
   "execution_count": 35,
   "id": "e1c265caa409a7db",
   "metadata": {
    "ExecuteTime": {
     "end_time": "2024-06-02T13:51:34.192213Z",
     "start_time": "2024-06-02T13:51:34.120535Z"
    }
   },
   "outputs": [
    {
     "name": "stdout",
     "output_type": "stream",
     "text": [
      "Generated 2048 messages\n"
     ]
    }
   ],
   "source": [
    "def create_inputs(freq_units=\"Hz\"):\n",
    "    n_chans = 20\n",
    "    n_freqs = 100\n",
    "    data_dur = 30.0\n",
    "    fs = 1024.0\n",
    "\n",
    "    n_samples = int(data_dur * fs)\n",
    "    data = np.arange(n_samples * n_chans * n_freqs).reshape(n_samples, n_chans, n_freqs)\n",
    "    n_msgs = int(data_dur / 2)\n",
    "\n",
    "    offset = 0\n",
    "    messages = []\n",
    "    for arr in np.array_split(data, n_samples // n_msgs):\n",
    "        messages.append(\n",
    "            AxisArray(\n",
    "                arr,\n",
    "                dims=[\"time\", \"ch\", \"freq\"],\n",
    "                axes={\n",
    "                    \"time\": AxisArray.Axis.TimeAxis(fs=fs, offset=offset),\n",
    "                    \"freq\": AxisArray.Axis(gain=1.0, offset=0.0, unit=freq_units)\n",
    "                }\n",
    "            )\n",
    "        )\n",
    "        offset += arr.shape[0] / fs\n",
    "    print(f\"Generated {len(messages)} messages\")\n",
    "    return messages\n",
    "\n",
    "\n",
    "in_msgs = create_inputs()\n",
    "# Make a copy of the offsets for future \n",
    "t0s = np.array([_.axes[\"time\"].offset for _ in in_msgs])\n",
    "assert all([t0 == ax_arr.axes[\"time\"].offset for t0, ax_arr in zip(t0s, in_msgs)])"
   ]
  },
  {
   "cell_type": "code",
   "execution_count": 3,
   "id": "543ea8aa87eb03bb",
   "metadata": {
    "ExecuteTime": {
     "end_time": "2024-06-02T13:51:34.979870Z",
     "start_time": "2024-06-02T13:51:34.976317Z"
    }
   },
   "outputs": [],
   "source": [
    "# Let's make sure that modifying an offset does not modify our baseline.\n",
    "in_msgs[-1].axes[\"time\"].offset = -11.11\n",
    "assert t0s[-1] != in_msgs[-1].axes[\"time\"].offset \n",
    "in_msgs[-1].axes[\"time\"].offset = t0s[-1]  # Set it back"
   ]
  },
  {
   "cell_type": "markdown",
   "id": "bafef19fd225592e",
   "metadata": {},
   "source": [
    "## Creating and manipulation a new AxisArray"
   ]
  },
  {
   "cell_type": "markdown",
   "id": "236843608d65d649",
   "metadata": {},
   "source": [
    "### deepcopy\n",
    "\n",
    "`copy.deepcopy` works as expected. Modifying the `.offset` of the new msg's \"time\" axis has no effect on the original message.\n",
    "Unfortunately, deepcopy is very expensive, especially when we are only modifying a small subset of fields."
   ]
  },
  {
   "cell_type": "code",
   "execution_count": 4,
   "id": "f7b3db7147acda78",
   "metadata": {
    "ExecuteTime": {
     "end_time": "2024-06-02T13:51:44.829521Z",
     "start_time": "2024-06-02T13:51:37.219861Z"
    }
   },
   "outputs": [
    {
     "name": "stdout",
     "output_type": "stream",
     "text": [
      "77.9 ms ± 5.94 ms per loop (mean ± std. dev. of 7 runs, 1 loop each)\n"
     ]
    }
   ],
   "source": [
    "out_msg = copy.deepcopy(in_msgs[0])\n",
    "assert out_msg.axes is not in_msgs[0].axes\n",
    "out_msg.axes[\"time\"].offset = -22.22\n",
    "assert in_msgs[0].axes[\"time\"].offset == t0s[0]\n",
    "assert in_msgs[0].axes[\"time\"].offset != out_msg.axes[\"time\"].offset\n",
    "\n",
    "# But deepcopy can be expensive\n",
    "%timeit out_msgs_dc = [copy.deepcopy(_) for _ in in_msgs]"
   ]
  },
  {
   "cell_type": "markdown",
   "id": "f7d808e9410f55e9",
   "metadata": {},
   "source": [
    "### (shallow) copy\n",
    "\n",
    "As expected, a shallow copy creates a new object but all mutable fields are shared between the old and the new. As a result, any modification to the new fields will affect the old object.\n",
    "\n",
    "As shallow copy is roughly equivalent to initializing a new object with all the fields of the old, we expect the same behaviour when creating outputs that way."
   ]
  },
  {
   "cell_type": "code",
   "execution_count": 5,
   "id": "88d6f373a22e53f6",
   "metadata": {
    "ExecuteTime": {
     "end_time": "2024-06-02T13:51:44.835681Z",
     "start_time": "2024-06-02T13:51:44.831104Z"
    }
   },
   "outputs": [],
   "source": [
    "out_msg = copy.copy(in_msgs[0])\n",
    "# Shares the objects underlying the fields.\n",
    "assert out_msg.axes is in_msgs[0].axes\n",
    "assert out_msg.data is in_msgs[0].data\n",
    "# Modify out and see that input changes too.\n",
    "out_msg.axes[\"time\"].offset = -22.22\n",
    "assert in_msgs[0].axes[\"time\"].offset == out_msg.axes[\"time\"].offset\n",
    "assert in_msgs[0].axes[\"time\"].offset != t0s[0]\n",
    "# Reset the value.\n",
    "in_msgs[0].axes[\"time\"].offset = t0s[0]"
   ]
  },
  {
   "cell_type": "code",
   "execution_count": 6,
   "id": "17bd9aa5c4b11133",
   "metadata": {
    "ExecuteTime": {
     "end_time": "2024-06-02T13:51:44.839390Z",
     "start_time": "2024-06-02T13:51:44.836571Z"
    }
   },
   "outputs": [],
   "source": [
    "# What if we create a new message and fill the fields with references?\n",
    "out_msg = AxisArray(\n",
    "    data=in_msgs[0].data,\n",
    "    dims=in_msgs[0].dims,\n",
    "    axes=in_msgs[0].axes\n",
    ")\n",
    "# Shares the objects underlying the fields.\n",
    "assert out_msg.axes is in_msgs[0].axes\n",
    "assert out_msg.axes[\"time\"] is in_msgs[0].axes[\"time\"]\n",
    "assert out_msg.data is in_msgs[0].data\n",
    "# Modify out and see that input changes too.\n",
    "out_msg.axes[\"time\"].offset = -33.33\n",
    "assert in_msgs[0].axes[\"time\"].offset == out_msg.axes[\"time\"].offset\n",
    "assert in_msgs[0].axes[\"time\"].offset != t0s[0]\n",
    "# Reset the value.\n",
    "in_msgs[0].axes[\"time\"].offset = t0s[0]"
   ]
  },
  {
   "cell_type": "markdown",
   "id": "4a3d614c5bfb3e15",
   "metadata": {},
   "source": [
    "### New from dataclasses `replace`\n",
    "\n",
    "It is not obvious how dataclasses `replace` makes the new object, so we demonstrate it here explicitly.\n",
    "The output is a shallow copy of the input. Furthermore, the \"replaced\" fields are shallow copies of their argument values."
   ]
  },
  {
   "cell_type": "code",
   "execution_count": 7,
   "id": "d80bdf1e13037245",
   "metadata": {
    "ExecuteTime": {
     "end_time": "2024-06-02T13:56:25.957912Z",
     "start_time": "2024-06-02T13:56:25.954677Z"
    }
   },
   "outputs": [],
   "source": [
    "out_msg = replace(\n",
    "    in_msgs[0],\n",
    "    axes=in_msgs[0].axes\n",
    ")\n",
    "assert out_msg.data is in_msgs[0].data\n",
    "assert out_msg.axes is in_msgs[0].axes\n",
    "assert out_msg.axes[\"time\"] is in_msgs[0].axes[\"time\"]\n",
    "out_msg.axes[\"time\"].offset = -44.44\n",
    "assert in_msgs[0].axes[\"time\"].offset == out_msg.axes[\"time\"].offset\n",
    "assert in_msgs[0].axes[\"time\"].offset != t0s[0]\n",
    "# Reset\n",
    "in_msgs[0].axes[\"time\"].offset = t0s[0]"
   ]
  },
  {
   "cell_type": "markdown",
   "id": "8fb312177b5ca71",
   "metadata": {},
   "source": [
    "### New `axes` on init\n",
    "\n",
    "If we create a new dictionary to pass to out_msg creation, then we can successfully separate the input axes dict and the output axes dict. HOWEVER, this does not break links between the individual fields!"
   ]
  },
  {
   "cell_type": "code",
   "execution_count": 8,
   "id": "bd39058922a31901",
   "metadata": {
    "ExecuteTime": {
     "end_time": "2024-06-02T02:15:26.872376Z",
     "start_time": "2024-06-02T02:15:26.868847Z"
    }
   },
   "outputs": [],
   "source": [
    "out_msg = replace(\n",
    "    in_msgs[0],\n",
    "    axes={**in_msgs[0].axes}\n",
    ")\n",
    "assert out_msg.axes is not in_msgs[0].axes\n",
    "# Yay, the dict is not the same object!\n",
    "# However, the time axes are still linked.\n",
    "assert out_msg.axes[\"time\"] is in_msgs[0].axes[\"time\"]\n",
    "out_msg.axes[\"time\"].offset = -55.55\n",
    "assert in_msgs[0].axes[\"time\"].offset != t0s[0]\n",
    "# Reset\n",
    "in_msgs[0].axes[\"time\"].offset = t0s[0]"
   ]
  },
  {
   "cell_type": "markdown",
   "id": "cb841d2fbdf4e0bf",
   "metadata": {},
   "source": [
    "And just for completeness, we show that if we keep the same .axes dict and just create a new entry then we haven't solved the problem because the container is linked. We simply replaced the \"time\" value on both the output and the input."
   ]
  },
  {
   "cell_type": "code",
   "execution_count": 9,
   "id": "4a03d9ec97f28ac4",
   "metadata": {
    "ExecuteTime": {
     "end_time": "2024-06-02T14:13:37.672109Z",
     "start_time": "2024-06-02T14:13:37.668304Z"
    }
   },
   "outputs": [],
   "source": [
    "out_msg = copy.copy(in_msgs[0])\n",
    "out_msg.axes[\"time\"] = replace(out_msg.axes[\"time\"], offset=-66.66)\n",
    "# dict remains the same, so we just changed one field in one dict shared across input and output.\n",
    "assert out_msg.axes[\"time\"] is in_msgs[0].axes[\"time\"]\n",
    "# Reset\n",
    "in_msgs[0].axes[\"time\"].offset = t0s[0]"
   ]
  },
  {
   "cell_type": "markdown",
   "id": "74293b7b43269524",
   "metadata": {},
   "source": [
    "### General solution\n",
    "\n",
    "1. Return message is a new object, potentially initialised via shallow copy of input or template.\n",
    "2. `.axes` is a new dict.\n",
    "3. Field (e.g., \"time\") should be modified by replacement only.\n",
    "\n",
    "Here is one example of how to achieve this.\n"
   ]
  },
  {
   "cell_type": "code",
   "execution_count": 63,
   "id": "47c2602109c87d26",
   "metadata": {
    "ExecuteTime": {
     "end_time": "2024-06-02T02:19:59.662672Z",
     "start_time": "2024-06-02T02:19:59.658505Z"
    }
   },
   "outputs": [],
   "source": [
    "out_msg = copy.copy(in_msgs[0])  # 1. New object\n",
    "out_msg.axes = {  # New dict \n",
    "    **in_msgs[0].axes,  # Shallow copy of existing items\n",
    "    \"time\": copy.copy(in_msgs[0].axes[\"time\"])  # Overwrite time with a copy of the TimeAxis.\n",
    "}\n",
    "out_msg.axes[\"time\"].offset = -77.77\n",
    "assert out_msg.axes is not in_msgs[0].axes\n",
    "assert out_msg.axes[\"time\"] is not in_msgs[0].axes[\"time\"]\n",
    "assert in_msgs[0].axes[\"time\"].offset == t0s[0]  # Input offset has not been affected"
   ]
  },
  {
   "cell_type": "markdown",
   "id": "48e3200b",
   "metadata": {},
   "source": [
    "## Profiling modifications to AxisArray axis fields\n",
    "\n",
    "What is the fastest way to return a message that is similar to the input with a transformed output and a modification to one of the axes entries?\n"
   ]
  },
  {
   "cell_type": "markdown",
   "id": "02928f9a",
   "metadata": {},
   "source": [
    "### Profile creation of axes dict\n",
    "\n",
    "There are several ways to make a new dict initialized with an old dict.\n",
    "\n",
    "* `new_dict = old_dict.copy()`\n",
    "* `new_dict = {**old_dict}`\n",
    "* `new_dict = dict({**old_dict})`\n",
    "\n",
    "The 3rd method is strictly slower than the 2nd so we will ignore it.\n",
    "\n",
    "We also need to overwrite one of the fields. The 2nd method allows this in the same command.\n",
    "Additionally, there's a question as to whether we should copy all the old dict fields or only the ones we aren't replacing.\n",
    "\n",
    "Let's investigate.\n",
    "\n",
    "First, we'll recreate our `in_msgs` but this time give the freq axis a very long string for units to make copying more expensive.\n"
   ]
  },
  {
   "cell_type": "code",
   "execution_count": 36,
   "id": "79bff937",
   "metadata": {},
   "outputs": [
    {
     "name": "stdout",
     "output_type": "stream",
     "text": [
      "Generated 2048 messages\n"
     ]
    }
   ],
   "source": [
    "import string\n",
    "import random\n",
    "\n",
    "res = ''.join(random.choices(string.ascii_uppercase +\n",
    "                             string.digits, k=1000))\n",
    "in_msgs = create_inputs(freq_units=res)"
   ]
  },
  {
   "cell_type": "markdown",
   "id": "ac36bd74",
   "metadata": {},
   "source": [
    "Next we'll try several ways to make a new dict.\n",
    "Note that in each case we can't assume the class of the axis info object because it might have been a customized subclass."
   ]
  },
  {
   "cell_type": "code",
   "execution_count": 31,
   "id": "54df5f7f",
   "metadata": {},
   "outputs": [
    {
     "name": "stdout",
     "output_type": "stream",
     "text": [
      "883 µs ± 13.9 µs per loop (mean ± std. dev. of 7 runs, 1,000 loops each)\n",
      "882 µs ± 18.3 µs per loop (mean ± std. dev. of 7 runs, 1,000 loops each)\n",
      "965 µs ± 1.65 µs per loop (mean ± std. dev. of 7 runs, 1,000 loops each)\n",
      "774 µs ± 1.05 µs per loop (mean ± std. dev. of 7 runs, 1,000 loops each)\n"
     ]
    }
   ],
   "source": [
    "def new_dict_1(in_msg):\n",
    "    new_dict = in_msg.axes.copy()\n",
    "    ax_cls = type(new_dict[\"time\"])\n",
    "    new_dict[\"time\"] = ax_cls(gain=new_dict[\"time\"].gain, offset=-88.88)\n",
    "    return new_dict\n",
    "\n",
    "def new_dict_2(in_msg):\n",
    "    new_dict = {**in_msg.axes}\n",
    "    ax_cls = type(new_dict[\"time\"])\n",
    "    new_dict[\"time\"] = ax_cls(gain=new_dict[\"time\"].gain, offset=-88.88)\n",
    "    return new_dict\n",
    "\n",
    "def new_dict_3(in_msg):\n",
    "    ax_cls = type(in_msg.axes[\"time\"])\n",
    "    return {\n",
    "        **in_msg.axes,\n",
    "        \"time\": ax_cls(gain=in_msg.axes[\"time\"].gain, offset=-88.88)\n",
    "    }\n",
    "\n",
    "def new_dict_4(in_msg):\n",
    "    ax_cls = type(in_msg.axes[\"time\"])\n",
    "    return {\n",
    "        **{\n",
    "            k: (v if k != \"time\" else ax_cls(gain=in_msg.axes[\"time\"].gain, offset=-88.88))\n",
    "            for k, v in in_msg.axes.items() if k != \"time\"\n",
    "        }\n",
    "    }\n",
    "\n",
    "\n",
    "%timeit [new_dict_1(_) for _ in in_msgs]\n",
    "%timeit [new_dict_2(_) for _ in in_msgs]\n",
    "%timeit [new_dict_3(_) for _ in in_msgs]\n",
    "%timeit [new_dict_4(_) for _ in in_msgs]\n"
   ]
  },
  {
   "cell_type": "markdown",
   "id": "eae228ba",
   "metadata": {},
   "source": [
    "`new_dict_4` is faster maybe because it has fewer \"copies\", even though the copies are shallow. I might have thought that the check against `k != \"time\"` is expensive.\n",
    "However, the 4th method is hard to read and is easy to get wrong.\n",
    "\n",
    "The other methods are quite close to each other. Method 1 or 2 might be preferred over 4 for readibility."
   ]
  },
  {
   "cell_type": "markdown",
   "id": "564dad3b",
   "metadata": {},
   "source": [
    "Next we consider whether creation of the new TimeAxis field is better done with initialization or `replace`. The nice thing about `replace` is that we don't need to know the input class or the other fields."
   ]
  },
  {
   "cell_type": "code",
   "execution_count": 32,
   "id": "61b60f06",
   "metadata": {},
   "outputs": [
    {
     "name": "stdout",
     "output_type": "stream",
     "text": [
      "2.03 ms ± 8.29 µs per loop (mean ± std. dev. of 7 runs, 100 loops each)\n"
     ]
    }
   ],
   "source": [
    "def new_dict_2_replace(in_msg):\n",
    "    new_dict = {**in_msg.axes}\n",
    "    new_dict[\"time\"] = replace(new_dict[\"time\"], offset=-88.88)\n",
    "\n",
    "\n",
    "%timeit [new_dict_2_replace(_) for _ in in_msgs]"
   ]
  },
  {
   "cell_type": "markdown",
   "id": "9f49b386",
   "metadata": {},
   "source": [
    "Wow! `replace` was more than twice as slow as creating a new object."
   ]
  },
  {
   "cell_type": "markdown",
   "id": "2d06c4f8",
   "metadata": {},
   "source": [
    "### Profile creation of object"
   ]
  },
  {
   "cell_type": "code",
   "execution_count": 38,
   "id": "94365cdf",
   "metadata": {},
   "outputs": [
    {
     "name": "stdout",
     "output_type": "stream",
     "text": [
      "1.16 ms ± 1.61 µs per loop (mean ± std. dev. of 7 runs, 1,000 loops each)\n",
      "2.32 ms ± 10.8 µs per loop (mean ± std. dev. of 7 runs, 100 loops each)\n"
     ]
    }
   ],
   "source": [
    "def new_axarr_1(in_msg):\n",
    "    msg_cls = type(in_msg)\n",
    "    return msg_cls(**in_msg.__dict__)\n",
    "\n",
    "\n",
    "def new_axarr_2(in_msg):\n",
    "    return replace(in_msg, axes=in_msg.axes)\n",
    "\n",
    "\n",
    "%timeit [new_axarr_1(_) for _ in in_msgs]\n",
    "%timeit [new_axarr_2(_) for _ in in_msgs]"
   ]
  },
  {
   "cell_type": "code",
   "execution_count": 39,
   "id": "9af7d6a1f4a4ea6f",
   "metadata": {
    "ExecuteTime": {
     "end_time": "2024-06-02T03:51:18.295102Z",
     "start_time": "2024-06-02T03:51:18.292452Z"
    }
   },
   "outputs": [
    {
     "name": "stdout",
     "output_type": "stream",
     "text": [
      "1.91 ms ± 6.55 µs per loop (mean ± std. dev. of 7 runs, 100 loops each)\n",
      "4.51 ms ± 16.3 µs per loop (mean ± std. dev. of 7 runs, 100 loops each)\n"
     ]
    }
   ],
   "source": [
    "def full_modify_1(in_msg):\n",
    "    msg_cls = type(in_msg)\n",
    "    out_msg = msg_cls(**in_msg.__dict__)\n",
    "    ax_cls = type(in_msg.axes[\"time\"])\n",
    "    out_msg.axes = {\n",
    "        k: (v if k != \"time\" else ax_cls(gain=in_msg.axes[\"time\"].gain, offset=-88.88))\n",
    "        for k, v in in_msg.axes.items() if k != \"time\"\n",
    "    }\n",
    "    return out_msg\n",
    "\n",
    "\n",
    "def full_modify_2(in_msg):\n",
    "    return replace(\n",
    "            in_msg,\n",
    "            axes={\n",
    "                **in_msg.axes,\n",
    "                \"time\": replace(\n",
    "                    in_msg.axes[\"time\"],\n",
    "                    offset=-99.99\n",
    "                )\n",
    "            }\n",
    "        )\n",
    "    \n",
    "\n",
    "%timeit [full_modify_1(_) for _ in in_msgs]\n",
    "%timeit [full_modify_2(_) for _ in in_msgs]"
   ]
  },
  {
   "cell_type": "markdown",
   "id": "a02b5df0",
   "metadata": {},
   "source": [
    "0.9 vs 2.2 µs per message (2048 messages per loop)."
   ]
  }
 ],
 "metadata": {
  "kernelspec": {
   "display_name": "Python 3",
   "language": "python",
   "name": "python3"
  },
  "language_info": {
   "codemirror_mode": {
    "name": "ipython",
    "version": 3
   },
   "file_extension": ".py",
   "mimetype": "text/x-python",
   "name": "python",
   "nbconvert_exporter": "python",
   "pygments_lexer": "ipython3",
   "version": "3.9.19"
  }
 },
 "nbformat": 4,
 "nbformat_minor": 5
}
